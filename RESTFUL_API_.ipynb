{
  "nbformat": 4,
  "nbformat_minor": 0,
  "metadata": {
    "colab": {
      "provenance": []
    },
    "kernelspec": {
      "name": "python3",
      "display_name": "Python 3"
    },
    "language_info": {
      "name": "python"
    }
  },
  "cells": [
    {
      "cell_type": "code",
      "execution_count": null,
      "metadata": {
        "id": "ojyzIwjFWTCZ"
      },
      "outputs": [],
      "source": []
    },
    {
      "cell_type": "markdown",
      "source": [
        "RESTFUL API THEORY QUESTION"
      ],
      "metadata": {
        "id": "X-y_aKjPWnK8"
      }
    },
    {
      "cell_type": "markdown",
      "source": [
        "1. What is a RESTful API?\n",
        "\n",
        "=  A RESTful API (Representational State Transfer) is an API that follows REST principles to enable communication between client and server using HTTP methods like GET, POST, PUT, DELETE.\n",
        "\n",
        "\n",
        "2. Explain the concept of API specification.\n",
        "\n",
        "=  An API specification defines how APIs should behave—what endpoints are available, required inputs, output format, and possible errors. Examples: OpenAPI, Swagger.\n",
        "\n",
        "\n",
        "3. What is Flask, and why is it popular for building API?\n",
        "\n",
        "= Flask is a lightweight Python web framework. It’s popular for APIs because it’s simple, flexible, and easy to extend with tools like Flask-RESTful and Flask-SQLAlchemy.\n",
        "\n",
        "\n",
        "4. What is routing in Flask?\n",
        "\n",
        "= Routing means mapping a URL to a specific function in Flask. For example, visiting /home triggers a specific Python function.\n",
        "\n",
        "5. How do you create a simple Flask application?\n",
        "\n",
        "= from flask import Flask  \n",
        "app = Flask(__name__)  \n",
        "  \n",
        "@app.route(\"/\")  \n",
        "def home():  \n",
        "    return \"Hello, Flask!\"  \n",
        "  \n",
        "app.run()\n",
        "\n",
        "\n",
        "6. What are HTTP methods used in RESTful APIs?\n",
        "\n",
        "=  GET – Retrieve data\n",
        "\n",
        "POST – Create data\n",
        "\n",
        "PUT – Update data\n",
        "\n",
        "DELETE – Delete data\n",
        "\n",
        "7. What is the purpose of the @app.route() decorator in Flask?\n",
        "\n",
        "= It connects a URL route to a view function, so Flask knows which function to run for a given URL.\n",
        "\n",
        "8. What is the difference between GET and POST HTTP methods?\n",
        "\n",
        "= GET: Retrieves data; parameters go in the URL\n",
        "\n",
        "POST: Sends data to the server; parameters go in the request body\n",
        "\n",
        "9. How do you handle errors in Flask APIs?\n",
        "\n",
        "= Use @app.errorhandler() or return custom error messages with status codes:\n",
        "\n",
        "10. How do you connect Flask to a SQL database?\n",
        "\n",
        "=  from flask_sqlalchemy import SQLAlchemy  \n",
        "app.config['SQLALCHEMY_DATABASE_URI'] = 'sqlite:///data.db'  \n",
        "db = SQLAlchemy(app)\n",
        "\n",
        "\n",
        "11. What is the role of Flask-SQLAlchemy?\n",
        "\n",
        "= It’s an ORM (Object Relational Mapper) that makes it easier to interact with databases using Python classes instead of SQL queries.\n",
        "\n",
        "\n",
        "12. What are Flask blueprints, and how are they useful?\n",
        "\n",
        "= Blueprints help break your Flask app into smaller reusable modules (e.g., separate API routes for users, admin, etc.).\n",
        "\n",
        "13. What is the purpose of Flask's request object?\n",
        "\n",
        "= It lets access data sent by the client, like form input, JSON data, and headers.\n",
        "\n",
        "14. How do you create a RESTful API endpoint using Flask?\n",
        "\n",
        "= @app.route(\"/api/data\", methods=[\"GET\"])\n",
        "def get_data():\n",
        "    return {\"message\": \"Here’s your data\"}\n",
        "\n",
        "15. What is the purpose of Flask's jsonify() function?\n",
        "\n",
        "= It converts Python dictionaries or lists into JSON format and sets the right response headers.\n",
        "\n",
        "16. Explain Flask’s url_for() function?\n",
        "\n",
        "= url_for() generates the URL for a function name.\n",
        "\n",
        "17. How does Flask handle static files (CSS, JavaScript, etc.)\n",
        "\n",
        "= Put them in a folder named static/, and access like:\n",
        "<link rel=\"stylesheet\" href=\"{{ url_for('static', filename='style.css') }}\">\n",
        "\n",
        "18. What is an API specification, and how does it help in building a Flask API?\n",
        "\n",
        "= It defines how your API behaves and helps teams understand input/output, making testing and integration easier.\n",
        "\n",
        "19. What are HTTP status codes, and why are they important in a Flask API?\n",
        "\n",
        "= They tell the client what happened:\n",
        "\n",
        "20. How do you handle POST requests in Flask?\n",
        "\n",
        "= @app.route('/submit', methods=['POST'])\n",
        "def submit():\n",
        "    data = request.json\n",
        "    return jsonify(data)\n",
        "\n",
        "21. How would you secure a Flask API?\n",
        "\n",
        "= Use HTTPS\n",
        "\n",
        "Validate inputs\n",
        "\n",
        "Add authentication (e.g., JWT, API keys)\n",
        "\n",
        "Limit requests (rate-limiting)\n",
        "\n",
        "22. What is the significance of the Flask-RESTful extension?\n",
        "\n",
        "= It helps build REST APIs faster using resources and classes:\n",
        "\n",
        "23. What is the role of Flask’s session object?\n",
        "\n",
        "= It stores user-specific data (like login state) between requests. Stored securely using cookies.\n",
        "\n"
      ],
      "metadata": {
        "id": "_LojH-pUWt0N"
      }
    },
    {
      "cell_type": "markdown",
      "source": [
        "PRACTICAL QUESTIONS"
      ],
      "metadata": {
        "id": "fOrmfsoiZgge"
      }
    },
    {
      "cell_type": "markdown",
      "source": [
        "1.How do you create a basic Flask application?"
      ],
      "metadata": {
        "id": "ecKeTAwCZmCn"
      }
    },
    {
      "cell_type": "code",
      "source": [
        "from flask import Flask\n",
        "\n",
        "app = Flask(__name__)\n",
        "\n",
        "@app.route('/')\n",
        "def home():\n",
        "    return 'Hello, Flask!'\n",
        "\n",
        "if __name__ == '__main__':\n",
        "    app.run(debug=True)\n"
      ],
      "metadata": {
        "colab": {
          "base_uri": "https://localhost:8080/"
        },
        "id": "VwzPnlEMZ7y9",
        "outputId": "b11e02df-2438-4802-c370-05881928f9f6"
      },
      "execution_count": null,
      "outputs": [
        {
          "output_type": "stream",
          "name": "stdout",
          "text": [
            " * Serving Flask app '__main__'\n",
            " * Debug mode: on\n"
          ]
        },
        {
          "output_type": "stream",
          "name": "stderr",
          "text": [
            "INFO:werkzeug:\u001b[31m\u001b[1mWARNING: This is a development server. Do not use it in a production deployment. Use a production WSGI server instead.\u001b[0m\n",
            " * Running on http://127.0.0.1:5000\n",
            "INFO:werkzeug:\u001b[33mPress CTRL+C to quit\u001b[0m\n",
            "INFO:werkzeug: * Restarting with stat\n"
          ]
        }
      ]
    },
    {
      "cell_type": "markdown",
      "source": [
        "2. How do you serve static files like images or CSS in Flask?\n"
      ],
      "metadata": {
        "id": "EmbP77tYaEaN"
      }
    },
    {
      "cell_type": "code",
      "source": [
        "<link rel=\"stylesheet\" href=\"{{ url_for('static', filename='style.css') }}\">\n",
        "<img src=\"{{ url_for('static', filename='logo.png') }}\">\n"
      ],
      "metadata": {
        "id": "xLYTUI2RaKWn"
      },
      "execution_count": null,
      "outputs": []
    },
    {
      "cell_type": "markdown",
      "source": [
        "3. How do you define different routes with different HTTP methods in Flask?"
      ],
      "metadata": {
        "id": "ByPwINduaQ6t"
      }
    },
    {
      "cell_type": "code",
      "source": [
        "@app.route('/submit', methods=['GET', 'POST'])\n",
        "def submit():\n",
        "    if request.method == 'POST':\n",
        "        return \"Form Submitted\"\n",
        "    return \"Submit Form\"\n"
      ],
      "metadata": {
        "id": "-F0Zco2xaVVt"
      },
      "execution_count": null,
      "outputs": []
    },
    {
      "cell_type": "markdown",
      "source": [
        "4. How do you render HTML templates in Flask?\n"
      ],
      "metadata": {
        "id": "gzfSy2ETaafA"
      }
    },
    {
      "cell_type": "code",
      "source": [
        "from flask import render_template\n",
        "\n",
        "@app.route('/')\n",
        "def home():\n",
        "    return render_template('home.html')\n"
      ],
      "metadata": {
        "id": "7wG3NKghaeKU"
      },
      "execution_count": null,
      "outputs": []
    },
    {
      "cell_type": "markdown",
      "source": [
        "5. How can you generate URLs for routes in Flask using url_for"
      ],
      "metadata": {
        "id": "RD5h1rjvaiek"
      }
    },
    {
      "cell_type": "code",
      "source": [
        "@app.route('/about')\n",
        "def about():\n",
        "    return 'About Page'\n",
        "\n",
        "# usage\n",
        "url_for('about')  # returns \"/about\"\n"
      ],
      "metadata": {
        "id": "lArlK03taofC"
      },
      "execution_count": null,
      "outputs": []
    },
    {
      "cell_type": "markdown",
      "source": [
        "6. How do you handle forms in Flask?"
      ],
      "metadata": {
        "id": "se9owxqaatsO"
      }
    },
    {
      "cell_type": "code",
      "source": [
        "SKIP"
      ],
      "metadata": {
        "id": "-QMjIIeya0Jd"
      },
      "execution_count": null,
      "outputs": []
    },
    {
      "cell_type": "markdown",
      "source": [
        "7. How can you validate form data in Flask"
      ],
      "metadata": {
        "id": "kQpkvoJGa3Zc"
      }
    },
    {
      "cell_type": "code",
      "source": [
        "from flask_wtf import FlaskForm\n",
        "from wtforms import StringField\n",
        "from wtforms.validators import DataRequired\n",
        "\n",
        "class MyForm(FlaskForm):\n",
        "    name = StringField('Name', validators=[DataRequired()])\n"
      ],
      "metadata": {
        "id": "TNHi5MTFa7FC"
      },
      "execution_count": null,
      "outputs": []
    },
    {
      "cell_type": "markdown",
      "source": [
        "8. How do you manage sessions in Flask"
      ],
      "metadata": {
        "id": "1sUHSF4rbCdS"
      }
    },
    {
      "cell_type": "code",
      "source": [
        "from flask import session\n",
        "\n",
        "app.secret_key = 'your_secret_key'\n",
        "\n",
        "@app.route('/login')\n",
        "def login():\n",
        "    session['user'] = 'admin'\n",
        "    return 'Logged in'\n",
        "\n",
        "@app.route('/logout')\n",
        "def logout():\n",
        "    session.pop('user', None)\n",
        "    return 'Logged out'\n"
      ],
      "metadata": {
        "id": "u6ZGIAWrbF9X"
      },
      "execution_count": null,
      "outputs": []
    },
    {
      "cell_type": "markdown",
      "source": [
        "9. How do you redirect to a different route in Flask"
      ],
      "metadata": {
        "id": "y5r0T1a3bJS1"
      }
    },
    {
      "cell_type": "code",
      "source": [
        "from flask import redirect, url_for\n",
        "\n",
        "@app.route('/go-home')\n",
        "def go_home():\n",
        "    return redirect(url_for('home'))\n"
      ],
      "metadata": {
        "id": "6gVZFOusbMRe"
      },
      "execution_count": null,
      "outputs": []
    },
    {
      "cell_type": "markdown",
      "source": [
        "10. How do you handle errors in Flask (e.g., 404)"
      ],
      "metadata": {
        "id": "Wl2PNbnwbPhv"
      }
    },
    {
      "cell_type": "code",
      "source": [
        "@app.errorhandler(404)\n",
        "def not_found(e):\n",
        "    return \"Page Not Found\", 404\n"
      ],
      "metadata": {
        "id": "no8pv_TLbTID"
      },
      "execution_count": null,
      "outputs": []
    },
    {
      "cell_type": "markdown",
      "source": [
        "11.  How do you structure a Flask app using Blueprints"
      ],
      "metadata": {
        "id": "lwR6BjN5bYDF"
      }
    },
    {
      "cell_type": "code",
      "source": [
        "\n",
        "from flask import Blueprint\n",
        "users = Blueprint('users', __name__)\n",
        "\n",
        "@users.route('/profile')\n",
        "def profile():\n",
        "    return \"User Profile\"\n"
      ],
      "metadata": {
        "id": "_H8HcYObbcDU"
      },
      "execution_count": null,
      "outputs": []
    },
    {
      "cell_type": "markdown",
      "source": [
        "12. How do you define a custom Jinja filter in FlasK"
      ],
      "metadata": {
        "id": "LeDSz2XgbfoZ"
      }
    },
    {
      "cell_type": "code",
      "source": [
        "@app.template_filter('reverse')\n",
        "def reverse_string(s):\n",
        "    return s[::-1]\n"
      ],
      "metadata": {
        "id": "dCKwdIX3blpY"
      },
      "execution_count": null,
      "outputs": []
    },
    {
      "cell_type": "markdown",
      "source": [
        "13.  How can you redirect with query parameters in Flask?\n",
        "\n"
      ],
      "metadata": {
        "id": "rPdLbnWgbrFc"
      }
    },
    {
      "cell_type": "code",
      "source": [
        "from flask import redirect, url_for\n",
        "\n",
        "@app.route('/search')\n",
        "def search():\n",
        "    return redirect(url_for('results', q='flask'))\n",
        "\n",
        "@app.route('/results')\n",
        "def results():\n",
        "    query = request.args.get('q')\n",
        "    return f\"Search results for {query}\"\n"
      ],
      "metadata": {
        "id": "oFAwNeTWbzWX"
      },
      "execution_count": null,
      "outputs": []
    },
    {
      "cell_type": "markdown",
      "source": [
        "14. How do you return JSON responses in Flask"
      ],
      "metadata": {
        "id": "b87k1OeUb1_5"
      }
    },
    {
      "cell_type": "code",
      "source": [
        "from flask import jsonify\n",
        "\n",
        "@app.route('/api')\n",
        "def api():\n",
        "    return jsonify({'name': 'Flask', 'version': 2.0})\n"
      ],
      "metadata": {
        "id": "KdgFZBcxb47X"
      },
      "execution_count": null,
      "outputs": []
    },
    {
      "cell_type": "markdown",
      "source": [
        "15.  How do you capture URL parameters in Flask"
      ],
      "metadata": {
        "id": "Xuw5O1gbb7f4"
      }
    },
    {
      "cell_type": "code",
      "source": [
        "@app.route('/user/<username>')\n",
        "def user_profile(username):\n",
        "    return f\"Welcome, {username}\"\n"
      ],
      "metadata": {
        "id": "DihWAf8Nb-fY"
      },
      "execution_count": null,
      "outputs": []
    }
  ]
}